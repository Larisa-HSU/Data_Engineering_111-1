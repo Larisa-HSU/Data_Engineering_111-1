{
 "cells": [
  {
   "cell_type": "markdown",
   "id": "48ab6ced",
   "metadata": {},
   "source": [
    "### ----前置作業 下載----"
   ]
  },
  {
   "cell_type": "code",
   "execution_count": 11,
   "id": "35370c5d",
   "metadata": {},
   "outputs": [
    {
     "name": "stdout",
     "output_type": "stream",
     "text": [
      "Active code page: 936\n",
      "Collecting pymssql\n",
      "  Downloading pymssql-2.2.7-cp39-cp39-win_amd64.whl (1.5 MB)\n",
      "     ---------------------------------------- 1.5/1.5 MB 3.6 MB/s eta 0:00:00\n",
      "Installing collected packages: pymssql\n",
      "Successfully installed pymssql-2.2.7\n"
     ]
    }
   ],
   "source": [
    "!pip install pymssql # 連線SQL需安裝下載套件"
   ]
  },
  {
   "cell_type": "code",
   "execution_count": 12,
   "id": "399f24e8",
   "metadata": {
    "scrolled": true
   },
   "outputs": [
    {
     "name": "stdout",
     "output_type": "stream",
     "text": [
      "Active code page: 936\n",
      "Requirement already satisfied: pyodbc in c:\\users\\user\\anaconda3\\lib\\site-packages (4.0.34)\n"
     ]
    }
   ],
   "source": [
    "!pip install pyodbc # ODBC的DRIVER(驅動程式)"
   ]
  },
  {
   "cell_type": "markdown",
   "id": "1602bb6d",
   "metadata": {},
   "source": [
    "### ----開始執行----"
   ]
  },
  {
   "cell_type": "code",
   "execution_count": 13,
   "id": "24a35a1a",
   "metadata": {},
   "outputs": [
    {
     "name": "stdout",
     "output_type": "stream",
     "text": [
      "【現在時間】2022/12/14 10:47:08\n",
      "【所在目錄】C:\\Users\\User\\Desktop\\資料工程\n",
      "【Python】3.9.13\n",
      "【pymssql】2.2.7\n",
      "【pyodbc】4.0.34\n"
     ]
    },
    {
     "data": {
      "application/javascript": [
       "IPython.notebook.set_autosave_interval(120000)"
      ]
     },
     "metadata": {},
     "output_type": "display_data"
    },
    {
     "name": "stdout",
     "output_type": "stream",
     "text": [
      "Autosaving every 120 seconds\n"
     ]
    }
   ],
   "source": [
    "# coding=utf-8\n",
    "from platform import python_version\n",
    "import os, time, socket, glob, pickle, joblib\n",
    "import pandas as pd\n",
    "import pyodbc, pymssql\n",
    "import warnings\n",
    "warnings.filterwarnings(action=\"ignore\")\n",
    "print(\"【現在時間】{}\".format(time.strftime(\"%Y/%m/%d %H:%M:%S\")))\n",
    "print(\"【所在目錄】{}\".format(os.getcwd()))\n",
    "#print(\"【主機名稱】{} ({})\".format(socket.gethostname(),socket.gethostbyname(socket.\n",
    "print(\"【Python】{}\".format(python_version()))\n",
    "print(\"【pymssql】{}\".format(pymssql.__version__))\n",
    "print(\"【pyodbc】{}\".format(pyodbc.version))\n",
    "%autosave 120"
   ]
  },
  {
   "cell_type": "code",
   "execution_count": 1,
   "id": "4cb3e744",
   "metadata": {},
   "outputs": [],
   "source": [
    "import pandas as pd\n",
    "import requests\n",
    "import bs4\n",
    "from bs4 import BeautifulSoup"
   ]
  },
  {
   "cell_type": "markdown",
   "id": "d8c4b94b",
   "metadata": {},
   "source": [
    "### ----更改股票代號----"
   ]
  },
  {
   "cell_type": "code",
   "execution_count": 54,
   "id": "1aed9e7a",
   "metadata": {},
   "outputs": [],
   "source": [
    "stock_id = \"6446\" \n",
    "url = \"https://goodinfo.tw/tw/StockDetail.asp?STOCK_ID=\" + stock_id\n",
    "payloads = {\"STOCK_ID\":stock_id}\n",
    "headers = \\\n",
    "{\"user-agent\":\"Mozilla/5.0 (Windows NT 10.0; Win64; x64) AppleWebKit/537.36 (KHTML, like Gecko) Chrome/107.0.0.0 Safari/537.36\"}"
   ]
  },
  {
   "cell_type": "code",
   "execution_count": 6,
   "id": "64a78b92",
   "metadata": {},
   "outputs": [],
   "source": [
    "url = \"https://goodinfo.tw/tw/EquityDistributionClassHis.asp?STOCK_ID=\"+stock_id\n",
    "resp = requests.request(method=\"POST\",url=url,data=payloads,headers=headers)\n",
    "resp.encoding = \"utf-8\"\n",
    "\n",
    "equityDclass_table = pd.read_html(resp.text)"
   ]
  },
  {
   "cell_type": "code",
   "execution_count": 48,
   "id": "8b44384c",
   "metadata": {},
   "outputs": [
    {
     "data": {
      "text/html": [
       "<div>\n",
       "<style scoped>\n",
       "    .dataframe tbody tr th:only-of-type {\n",
       "        vertical-align: middle;\n",
       "    }\n",
       "\n",
       "    .dataframe tbody tr th {\n",
       "        vertical-align: top;\n",
       "    }\n",
       "\n",
       "    .dataframe thead tr th {\n",
       "        text-align: left;\n",
       "    }\n",
       "</style>\n",
       "<table border=\"1\" class=\"dataframe\">\n",
       "  <thead>\n",
       "    <tr>\n",
       "      <th></th>\n",
       "      <th>週別</th>\n",
       "      <th>統計日期</th>\n",
       "      <th colspan=\"3\" halign=\"left\">當週股價</th>\n",
       "      <th>集保庫存(萬張)</th>\n",
       "      <th colspan=\"8\" halign=\"left\">各持股等級股東之持有比例(%)</th>\n",
       "    </tr>\n",
       "    <tr>\n",
       "      <th></th>\n",
       "      <th>週別</th>\n",
       "      <th>統計日期</th>\n",
       "      <th>收盤</th>\n",
       "      <th>漲跌(元)</th>\n",
       "      <th>漲跌(%)</th>\n",
       "      <th>集保庫存(萬張)</th>\n",
       "      <th>≦10張</th>\n",
       "      <th>＞10張≦50張</th>\n",
       "      <th>＞50張≦100張</th>\n",
       "      <th>＞100張≦200張</th>\n",
       "      <th>＞200張≦400張</th>\n",
       "      <th>＞400張≦800張</th>\n",
       "      <th>＞800張≦1千張</th>\n",
       "      <th>＞1千張</th>\n",
       "    </tr>\n",
       "  </thead>\n",
       "  <tbody>\n",
       "    <tr>\n",
       "      <th>0</th>\n",
       "      <td>22W51</td>\n",
       "      <td>-</td>\n",
       "      <td>527</td>\n",
       "      <td>-10</td>\n",
       "      <td>-1.86</td>\n",
       "      <td>-</td>\n",
       "      <td>-</td>\n",
       "      <td>-</td>\n",
       "      <td>-</td>\n",
       "      <td>-</td>\n",
       "      <td>-</td>\n",
       "      <td>-</td>\n",
       "      <td>-</td>\n",
       "      <td>-</td>\n",
       "    </tr>\n",
       "    <tr>\n",
       "      <th>1</th>\n",
       "      <td>22W50</td>\n",
       "      <td>12/09</td>\n",
       "      <td>537</td>\n",
       "      <td>+5</td>\n",
       "      <td>+0.94</td>\n",
       "      <td>30.27</td>\n",
       "      <td>9.91</td>\n",
       "      <td>12.9</td>\n",
       "      <td>6.7</td>\n",
       "      <td>8.04</td>\n",
       "      <td>8.25</td>\n",
       "      <td>7.08</td>\n",
       "      <td>2</td>\n",
       "      <td>45.1</td>\n",
       "    </tr>\n",
       "    <tr>\n",
       "      <th>2</th>\n",
       "      <td>22W49</td>\n",
       "      <td>12/02</td>\n",
       "      <td>532</td>\n",
       "      <td>+26</td>\n",
       "      <td>+5.14</td>\n",
       "      <td>30.27</td>\n",
       "      <td>10</td>\n",
       "      <td>12.8</td>\n",
       "      <td>6.74</td>\n",
       "      <td>8.19</td>\n",
       "      <td>8.32</td>\n",
       "      <td>6.61</td>\n",
       "      <td>2.01</td>\n",
       "      <td>45.3</td>\n",
       "    </tr>\n",
       "    <tr>\n",
       "      <th>3</th>\n",
       "      <td>22W48</td>\n",
       "      <td>11/25</td>\n",
       "      <td>506</td>\n",
       "      <td>-22</td>\n",
       "      <td>-4.17</td>\n",
       "      <td>30.27</td>\n",
       "      <td>9.93</td>\n",
       "      <td>12.5</td>\n",
       "      <td>6.48</td>\n",
       "      <td>7.84</td>\n",
       "      <td>6.94</td>\n",
       "      <td>6.41</td>\n",
       "      <td>0.84</td>\n",
       "      <td>49</td>\n",
       "    </tr>\n",
       "    <tr>\n",
       "      <th>4</th>\n",
       "      <td>22W47</td>\n",
       "      <td>11/18</td>\n",
       "      <td>528</td>\n",
       "      <td>+20</td>\n",
       "      <td>+3.94</td>\n",
       "      <td>30.27</td>\n",
       "      <td>10.1</td>\n",
       "      <td>12.6</td>\n",
       "      <td>6.52</td>\n",
       "      <td>7.6</td>\n",
       "      <td>7.15</td>\n",
       "      <td>6.43</td>\n",
       "      <td>1.15</td>\n",
       "      <td>48.5</td>\n",
       "    </tr>\n",
       "    <tr>\n",
       "      <th>...</th>\n",
       "      <td>...</td>\n",
       "      <td>...</td>\n",
       "      <td>...</td>\n",
       "      <td>...</td>\n",
       "      <td>...</td>\n",
       "      <td>...</td>\n",
       "      <td>...</td>\n",
       "      <td>...</td>\n",
       "      <td>...</td>\n",
       "      <td>...</td>\n",
       "      <td>...</td>\n",
       "      <td>...</td>\n",
       "      <td>...</td>\n",
       "      <td>...</td>\n",
       "    </tr>\n",
       "    <tr>\n",
       "      <th>167</th>\n",
       "      <td>20W03</td>\n",
       "      <td>01/17</td>\n",
       "      <td>116</td>\n",
       "      <td>+1</td>\n",
       "      <td>+0.87</td>\n",
       "      <td>22.51</td>\n",
       "      <td>9.23</td>\n",
       "      <td>12.4</td>\n",
       "      <td>6.72</td>\n",
       "      <td>6.05</td>\n",
       "      <td>6.55</td>\n",
       "      <td>6.34</td>\n",
       "      <td>1.57</td>\n",
       "      <td>51.2</td>\n",
       "    </tr>\n",
       "    <tr>\n",
       "      <th>168</th>\n",
       "      <td>20W02</td>\n",
       "      <td>01/10</td>\n",
       "      <td>115</td>\n",
       "      <td>+2.5</td>\n",
       "      <td>+2.22</td>\n",
       "      <td>21.94</td>\n",
       "      <td>9.48</td>\n",
       "      <td>12.6</td>\n",
       "      <td>6.91</td>\n",
       "      <td>6.1</td>\n",
       "      <td>6.81</td>\n",
       "      <td>6.5</td>\n",
       "      <td>1.65</td>\n",
       "      <td>49.9</td>\n",
       "    </tr>\n",
       "    <tr>\n",
       "      <th>169</th>\n",
       "      <td>20W01</td>\n",
       "      <td>01/03</td>\n",
       "      <td>112.5</td>\n",
       "      <td>+11.5</td>\n",
       "      <td>+11.39</td>\n",
       "      <td>21.94</td>\n",
       "      <td>9.51</td>\n",
       "      <td>12.7</td>\n",
       "      <td>6.86</td>\n",
       "      <td>6.04</td>\n",
       "      <td>6.91</td>\n",
       "      <td>5.96</td>\n",
       "      <td>1.98</td>\n",
       "      <td>50</td>\n",
       "    </tr>\n",
       "    <tr>\n",
       "      <th>170</th>\n",
       "      <td>19W52</td>\n",
       "      <td>12/27</td>\n",
       "      <td>101</td>\n",
       "      <td>+0.5</td>\n",
       "      <td>+0.5</td>\n",
       "      <td>21.94</td>\n",
       "      <td>9.58</td>\n",
       "      <td>12.7</td>\n",
       "      <td>6.68</td>\n",
       "      <td>6.25</td>\n",
       "      <td>6.73</td>\n",
       "      <td>6.04</td>\n",
       "      <td>1.99</td>\n",
       "      <td>50.1</td>\n",
       "    </tr>\n",
       "    <tr>\n",
       "      <th>171</th>\n",
       "      <td>19W51</td>\n",
       "      <td>12/20</td>\n",
       "      <td>100.5</td>\n",
       "      <td>+0.6</td>\n",
       "      <td>+0.6</td>\n",
       "      <td>21.94</td>\n",
       "      <td>9.54</td>\n",
       "      <td>12.6</td>\n",
       "      <td>6.67</td>\n",
       "      <td>6.07</td>\n",
       "      <td>6.66</td>\n",
       "      <td>6.26</td>\n",
       "      <td>1.99</td>\n",
       "      <td>50.2</td>\n",
       "    </tr>\n",
       "  </tbody>\n",
       "</table>\n",
       "<p>172 rows × 14 columns</p>\n",
       "</div>"
      ],
      "text/plain": [
       "        週別   統計日期   當週股價                集保庫存(萬張) 各持股等級股東之持有比例(%)           \\\n",
       "        週別   統計日期     收盤  漲跌(元)   漲跌(%) 集保庫存(萬張)            ≦10張 ＞10張≦50張   \n",
       "0    22W51      -    527    -10   -1.86        -               -        -   \n",
       "1    22W50  12/09    537     +5   +0.94    30.27            9.91     12.9   \n",
       "2    22W49  12/02    532    +26   +5.14    30.27              10     12.8   \n",
       "3    22W48  11/25    506    -22   -4.17    30.27            9.93     12.5   \n",
       "4    22W47  11/18    528    +20   +3.94    30.27            10.1     12.6   \n",
       "..     ...    ...    ...    ...     ...      ...             ...      ...   \n",
       "167  20W03  01/17    116     +1   +0.87    22.51            9.23     12.4   \n",
       "168  20W02  01/10    115   +2.5   +2.22    21.94            9.48     12.6   \n",
       "169  20W01  01/03  112.5  +11.5  +11.39    21.94            9.51     12.7   \n",
       "170  19W52  12/27    101   +0.5    +0.5    21.94            9.58     12.7   \n",
       "171  19W51  12/20  100.5   +0.6    +0.6    21.94            9.54     12.6   \n",
       "\n",
       "                                                                \n",
       "    ＞50張≦100張 ＞100張≦200張 ＞200張≦400張 ＞400張≦800張 ＞800張≦1千張  ＞1千張  \n",
       "0           -          -          -          -         -     -  \n",
       "1         6.7       8.04       8.25       7.08         2  45.1  \n",
       "2        6.74       8.19       8.32       6.61      2.01  45.3  \n",
       "3        6.48       7.84       6.94       6.41      0.84    49  \n",
       "4        6.52        7.6       7.15       6.43      1.15  48.5  \n",
       "..        ...        ...        ...        ...       ...   ...  \n",
       "167      6.72       6.05       6.55       6.34      1.57  51.2  \n",
       "168      6.91        6.1       6.81        6.5      1.65  49.9  \n",
       "169      6.86       6.04       6.91       5.96      1.98    50  \n",
       "170      6.68       6.25       6.73       6.04      1.99  50.1  \n",
       "171      6.67       6.07       6.66       6.26      1.99  50.2  \n",
       "\n",
       "[172 rows x 14 columns]"
      ]
     },
     "execution_count": 48,
     "metadata": {},
     "output_type": "execute_result"
    }
   ],
   "source": [
    "df = equityDclass_table[18].dropna(axis='columns')\n",
    "df"
   ]
  },
  {
   "cell_type": "markdown",
   "id": "73be4233",
   "metadata": {},
   "source": [
    "### ----將DataFrame 轉成list----"
   ]
  },
  {
   "cell_type": "code",
   "execution_count": 50,
   "id": "8f400bae",
   "metadata": {},
   "outputs": [
    {
     "name": "stdout",
     "output_type": "stream",
     "text": [
      "['22W50', '12/09', '537', '+5', '+0.94', '30.27', '9.91', '12.9', '6.7', '8.04', '8.25', '7.08', '2', '45.1']\n"
     ]
    }
   ],
   "source": [
    "products_list = df.values.tolist()\n",
    "print(products_list[1])"
   ]
  },
  {
   "cell_type": "code",
   "execution_count": 59,
   "id": "e1d38091",
   "metadata": {},
   "outputs": [
    {
     "name": "stdout",
     "output_type": "stream",
     "text": [
      "GS644622W50\n"
     ]
    }
   ],
   "source": [
    "'''0         1     2     3      4      5    6  7  8  9   10   11  12 '''\n",
    "'''周別    日期    收盤  漲      跌  集保庫存 10 50 100 200 400 800 1000  '''\n",
    "Gstock_id=\"GS\"+str(stock_id)+str(products_list[1][0])\n",
    "print(Gstock_id)"
   ]
  },
  {
   "cell_type": "code",
   "execution_count": null,
   "id": "31c967ec",
   "metadata": {},
   "outputs": [],
   "source": [
    "conn = pymssql.connect(server = '163.14.73.23', # 163.14.73.23 \n",
    " port = '1433',\n",
    " database = 'PyDB',\n",
    " user = 'team05',\n",
    " password = 'scu@team05')\n"
   ]
  },
  {
   "cell_type": "code",
   "execution_count": null,
   "id": "67304506",
   "metadata": {},
   "outputs": [],
   "source": [
    "conn.autocommit = True\n",
    "cursor = conn.cursor()\n",
    "# GS+代號+發周別\n",
    "# MYSQL指令\n",
    "Gstock_id=\"GS\"+str(stock_id)+str(products_list[1][0])\n",
    "sqlStr = f\"\"\" \n",
    "    insert into 持股等級股東持有比例表 (持股等級股東持有比例表編號, \\\n",
    "    股東持有張數比例(≦10張), 股東持有張數比例(>10張&≦50張),\\\n",
    "    股東持有張數比例(>50張&≦100張),股東持有張數比例(＞100張≦200張),\\\n",
    "    股東持有張數比例(＞200張≦400張),股東持有張數比例(＞400張≦800張),\\\n",
    "    股東持有張數比例(＞800張≦1千張),股東持有張數比例(＞1千張),\n",
    "    集保庫存(萬張),統計日期,持股等級周別,股票代號)\n",
    "    values ({Gstock_id}, {products_list[1][6]}, {products_list[1][7]},{products_list[1][8]},\\\n",
    "    {products_list[1][9]},{products_list[1][10]},{products_list[1][11]},{products_list[1][12]},\\\n",
    "    {products_list[1][5]},{products_list[1][1]},{products_list[1][0]},{stock_id})\n",
    "    select * from tdale\n",
    "\"\"\"\n",
    "\n",
    "cursor.execute(sqlStr)\n",
    "\n"
   ]
  },
  {
   "cell_type": "code",
   "execution_count": null,
   "id": "4bfb3fe8",
   "metadata": {},
   "outputs": [],
   "source": [
    "conn.close()"
   ]
  },
  {
   "cell_type": "code",
   "execution_count": null,
   "id": "6f87896a",
   "metadata": {},
   "outputs": [],
   "source": [
    "'''\n",
    "MySQL 持股等級股東持有比例表 格式\n",
    "\n",
    "GS+代號+發周別 \n",
    "比例\n",
    "集保庫存\n",
    "日期\n",
    "周別\n",
    "代號\n",
    "\n",
    "\n",
    "''' \n",
    "# MySQL組合鍵\n",
    "# https://www.delftstack.com/zh-tw/howto/mysql/introduction-to-the-mysql-composite-key/\n"
   ]
  }
 ],
 "metadata": {
  "kernelspec": {
   "display_name": "Python 3 (ipykernel)",
   "language": "python",
   "name": "python3"
  },
  "language_info": {
   "codemirror_mode": {
    "name": "ipython",
    "version": 3
   },
   "file_extension": ".py",
   "mimetype": "text/x-python",
   "name": "python",
   "nbconvert_exporter": "python",
   "pygments_lexer": "ipython3",
   "version": "3.9.13"
  }
 },
 "nbformat": 4,
 "nbformat_minor": 5
}
