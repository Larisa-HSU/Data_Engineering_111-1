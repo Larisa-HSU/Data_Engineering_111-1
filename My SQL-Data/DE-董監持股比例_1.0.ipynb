{
 "cells": [
  {
   "cell_type": "code",
   "execution_count": null,
   "id": "a9eb6115",
   "metadata": {},
   "outputs": [],
   "source": [
    "!pip install pyodbc # ODBC的DRIVER(驅動程式)"
   ]
  },
  {
   "cell_type": "markdown",
   "id": "bd793b24",
   "metadata": {},
   "source": [
    "### ----開始執行----"
   ]
  },
  {
   "cell_type": "code",
   "execution_count": 1,
   "id": "672ab071",
   "metadata": {},
   "outputs": [
    {
     "name": "stdout",
     "output_type": "stream",
     "text": [
      "【現在時間】2022/12/18 17:04:04\n",
      "【所在目錄】C:\\Users\\User\\Desktop\\資料工程\n",
      "【Python】3.9.13\n",
      "【pymssql】2.2.7\n",
      "【pyodbc】4.0.35\n"
     ]
    },
    {
     "data": {
      "application/javascript": [
       "IPython.notebook.set_autosave_interval(120000)"
      ]
     },
     "metadata": {},
     "output_type": "display_data"
    },
    {
     "name": "stdout",
     "output_type": "stream",
     "text": [
      "Autosaving every 120 seconds\n"
     ]
    }
   ],
   "source": [
    "# coding=utf-8\n",
    "from platform import python_version\n",
    "import os, time, socket, glob, pickle, joblib\n",
    "import pandas as pd\n",
    "import pyodbc, pymssql\n",
    "import warnings\n",
    "warnings.filterwarnings(action=\"ignore\")\n",
    "print(\"【現在時間】{}\".format(time.strftime(\"%Y/%m/%d %H:%M:%S\")))\n",
    "print(\"【所在目錄】{}\".format(os.getcwd()))\n",
    "#print(\"【主機名稱】{} ({})\".format(socket.gethostname(),socket.gethostbyname(socket.\n",
    "print(\"【Python】{}\".format(python_version()))\n",
    "print(\"【pymssql】{}\".format(pymssql.__version__))\n",
    "print(\"【pyodbc】{}\".format(pyodbc.version))\n",
    "%autosave 120"
   ]
  },
  {
   "cell_type": "code",
   "execution_count": 2,
   "id": "3e6b0f39",
   "metadata": {},
   "outputs": [],
   "source": [
    "import pandas as pd\n",
    "import requests\n",
    "import bs4\n",
    "from bs4 import BeautifulSoup"
   ]
  },
  {
   "cell_type": "code",
   "execution_count": null,
   "id": "aefd62d2",
   "metadata": {},
   "outputs": [],
   "source": []
  },
  {
   "cell_type": "markdown",
   "id": "304bb7d1",
   "metadata": {},
   "source": [
    "## 董監持股"
   ]
  },
  {
   "cell_type": "code",
   "execution_count": 18,
   "id": "d30c5137",
   "metadata": {},
   "outputs": [],
   "source": [
    "stock_id = \"1218\"  #1605 1218 6446\n",
    "url = 'https://goodinfo.tw/tw/StockDirectorSharehold.asp?STOCK_ID='+stock_id\n",
    "payloads = {\"STOCK_ID\":stock_id}\n",
    "headers = {\"user-agent\":\"Mozilla/5.0 (Windows NT 10.0; Win64; x64) AppleWebKit/537.36 (KHTML, like Gecko) \\\n",
    "Chrome/107.0.0.0 Safari/537.36\"}\n",
    "resp = requests.request(method=\"POST\",url=url,data=payloads,headers=headers)\n",
    "resp.encoding = \"utf-8\"\n",
    "\n",
    "table_s = pd.read_html(resp.text)\n"
   ]
  },
  {
   "cell_type": "code",
   "execution_count": 19,
   "id": "46b89c0d",
   "metadata": {},
   "outputs": [
    {
     "name": "stdout",
     "output_type": "stream",
     "text": [
      "38\n"
     ]
    },
    {
     "data": {
      "text/html": [
       "<div>\n",
       "<style scoped>\n",
       "    .dataframe tbody tr th:only-of-type {\n",
       "        vertical-align: middle;\n",
       "    }\n",
       "\n",
       "    .dataframe tbody tr th {\n",
       "        vertical-align: top;\n",
       "    }\n",
       "\n",
       "    .dataframe thead tr th {\n",
       "        text-align: left;\n",
       "    }\n",
       "</style>\n",
       "<table border=\"1\" class=\"dataframe\">\n",
       "  <thead>\n",
       "    <tr>\n",
       "      <th></th>\n",
       "      <th>月別</th>\n",
       "      <th colspan=\"3\" halign=\"left\">當月股價</th>\n",
       "      <th>發行張數(萬張)</th>\n",
       "      <th colspan=\"5\" halign=\"left\">非獨立董監持股</th>\n",
       "      <th>...</th>\n",
       "      <th colspan=\"4\" halign=\"left\">獨立董監持股</th>\n",
       "      <th colspan=\"5\" halign=\"left\">全體董監持股</th>\n",
       "      <th>外資持股(%)</th>\n",
       "    </tr>\n",
       "    <tr>\n",
       "      <th></th>\n",
       "      <th>月別</th>\n",
       "      <th>當月收盤</th>\n",
       "      <th>漲跌(元)</th>\n",
       "      <th>漲跌(%)</th>\n",
       "      <th>發行張數(萬張)</th>\n",
       "      <th>持股張數</th>\n",
       "      <th>持股(%)</th>\n",
       "      <th>持股增減</th>\n",
       "      <th>質押張數</th>\n",
       "      <th>質押(%)</th>\n",
       "      <th>...</th>\n",
       "      <th>持股(%)</th>\n",
       "      <th>持股增減</th>\n",
       "      <th>質押張數</th>\n",
       "      <th>質押(%)</th>\n",
       "      <th>持股張數</th>\n",
       "      <th>持股(%)</th>\n",
       "      <th>持股增減</th>\n",
       "      <th>質押張數</th>\n",
       "      <th>質押(%)</th>\n",
       "      <th>外資持股(%)</th>\n",
       "    </tr>\n",
       "  </thead>\n",
       "  <tbody>\n",
       "    <tr>\n",
       "      <th>0</th>\n",
       "      <td>2022/12</td>\n",
       "      <td>36.5</td>\n",
       "      <td>-10.5</td>\n",
       "      <td>-22.3</td>\n",
       "      <td>50</td>\n",
       "      <td>-</td>\n",
       "      <td>-</td>\n",
       "      <td>-</td>\n",
       "      <td>-</td>\n",
       "      <td>-</td>\n",
       "      <td>...</td>\n",
       "      <td>-</td>\n",
       "      <td>-</td>\n",
       "      <td>-</td>\n",
       "      <td>-</td>\n",
       "      <td>-</td>\n",
       "      <td>-</td>\n",
       "      <td>-</td>\n",
       "      <td>-</td>\n",
       "      <td>-</td>\n",
       "      <td>2.6</td>\n",
       "    </tr>\n",
       "    <tr>\n",
       "      <th>1</th>\n",
       "      <td>2022/11</td>\n",
       "      <td>47</td>\n",
       "      <td>+8.05</td>\n",
       "      <td>+20.7</td>\n",
       "      <td>50</td>\n",
       "      <td>182312</td>\n",
       "      <td>36.5</td>\n",
       "      <td>0</td>\n",
       "      <td>147123</td>\n",
       "      <td>80.7</td>\n",
       "      <td>...</td>\n",
       "      <td>0</td>\n",
       "      <td>0</td>\n",
       "      <td>0</td>\n",
       "      <td>0</td>\n",
       "      <td>182312</td>\n",
       "      <td>36.5</td>\n",
       "      <td>0</td>\n",
       "      <td>147123</td>\n",
       "      <td>80.7</td>\n",
       "      <td>3.4</td>\n",
       "    </tr>\n",
       "  </tbody>\n",
       "</table>\n",
       "<p>2 rows × 21 columns</p>\n",
       "</div>"
      ],
      "text/plain": [
       "        月別  當月股價               發行張數(萬張) 非獨立董監持股                           ...  \\\n",
       "        月別  當月收盤  漲跌(元)  漲跌(%) 發行張數(萬張)    持股張數 持股(%) 持股增減    質押張數 質押(%)  ...   \n",
       "0  2022/12  36.5  -10.5  -22.3       50       -     -    -       -     -  ...   \n",
       "1  2022/11    47  +8.05  +20.7       50  182312  36.5    0  147123  80.7  ...   \n",
       "\n",
       "  獨立董監持股                  全體董監持股                          外資持股(%)  \n",
       "   持股(%) 持股增減 質押張數 質押(%)    持股張數 持股(%) 持股增減    質押張數 質押(%) 外資持股(%)  \n",
       "0      -    -    -     -       -     -    -       -     -     2.6  \n",
       "1      0    0    0     0  182312  36.5    0  147123  80.7     3.4  \n",
       "\n",
       "[2 rows x 21 columns]"
      ]
     },
     "execution_count": 19,
     "metadata": {},
     "output_type": "execute_result"
    }
   ],
   "source": [
    "df = table_s[15].dropna(axis='columns')\n",
    "print(len(df))\n",
    "df.head(2)"
   ]
  },
  {
   "cell_type": "code",
   "execution_count": 20,
   "id": "d4f36c26",
   "metadata": {},
   "outputs": [
    {
     "name": "stdout",
     "output_type": "stream",
     "text": [
      "['月別', '當月收盤', '漲跌(元)', '漲跌(%)', '發行張數(萬張)', '持股張數', '持股(%)', '持股增減', '質押張數', '質押(%)', '持股張數', '持股(%)', '持股增減', '質押張數', '質押(%)', '持股張數', '持股(%)', '持股增減', '質押張數', '質押(%)', '外資持股(%)']\n",
      "21\n",
      "['2022/11', '47', '+8.05', '+20.7', '50', '182312', '36.5', '0', '147123', '80.7', '0', '0', '0', '0', '0', '182312', '36.5', '0', '147123', '80.7', '3.4']\n"
     ]
    },
    {
     "data": {
      "text/plain": [
       "'0 1   4 5 10   20'"
      ]
     },
     "execution_count": 20,
     "metadata": {},
     "output_type": "execute_result"
    }
   ],
   "source": [
    "products_list = df.values.tolist()\n",
    "print(products_list[19])\n",
    "\n",
    "del products_list[19]\n",
    "del products_list[18]\n",
    "lists_num=len(products_list)\n",
    "print(len(products_list[1]))\n",
    "print(products_list[1])\n",
    "\"0 1   4 5 10   20\""
   ]
  },
  {
   "cell_type": "markdown",
   "id": "7c5489ea",
   "metadata": {},
   "source": [
    "### SQL連線"
   ]
  },
  {
   "cell_type": "code",
   "execution_count": 6,
   "id": "1bbc004a",
   "metadata": {},
   "outputs": [],
   "source": [
    "connsqlodbc= pyodbc.connect(\"DRIVER={ODBC Driver 17 for SQL Server};SERVER=124.218.194.84;\"\n",
    "                      \"DATABASE=testDB;UID=testuser;PWD=323\")\n"
   ]
  },
  {
   "cell_type": "code",
   "execution_count": 7,
   "id": "fe76d96a",
   "metadata": {},
   "outputs": [
    {
     "name": "stdout",
     "output_type": "stream",
     "text": [
      "2022/12/18\n"
     ]
    },
    {
     "data": {
      "text/plain": [
       "<pyodbc.Cursor at 0x21ebcee98b0>"
      ]
     },
     "execution_count": 7,
     "metadata": {},
     "output_type": "execute_result"
    }
   ],
   "source": [
    "connsqlodbc.autocommit = True\n",
    "cursor = connsqlodbc.cursor()\n",
    "# GS+代號+發周別\n",
    "# MYSQL指令\n",
    "time_S=time.strftime(\"%Y/%m/%d\")\n",
    "print(time_S)\n",
    "sqlStr ='''create table 董監持股比例表\n",
    "(\n",
    "\t董監持股比例表編號 nvarchar(20) primary key\n",
    "    ,[當月收盤] nvarchar(20) Null\n",
    "\t,[發行張數] nvarchar(20) Null\n",
    "\t,[非獨立董監持股] nvarchar(20) NULL\n",
    "\t,[獨立董監持股] nvarchar(20) Null\n",
    "\t,[外資持股(%)] nvarchar(20) Null\n",
    "\t,董監持股月別 nvarchar(10) not Null\n",
    "\t,股票代號 nvarchar(10) not Null\n",
    ")\n",
    "'''\n",
    "cursor.execute(sqlStr)"
   ]
  },
  {
   "cell_type": "code",
   "execution_count": 21,
   "id": "71a79cdd",
   "metadata": {},
   "outputs": [
    {
     "name": "stdout",
     "output_type": "stream",
     "text": [
      " \n",
      "   Insert into 董監持股比例表 (董監持股比例表編號\n",
      "    ,[當月收盤]\n",
      "\t,[發行張數],[非獨立董監持股]\n",
      "\t,[獨立董監持股]\n",
      "\t,[外資持股(%)]\n",
      "    ,董監持股月別,股票代號)\n",
      "    values ('P12182020/01',\n",
      "    '19.95','50','10190','0',\n",
      "    '2.3',\n",
      "    '2020/01','1218')\n",
      "    \n",
      "    \n"
     ]
    }
   ],
   "source": [
    "connsqlodbc.autocommit = True\n",
    "\n",
    "connsqlodbc.setdecoding(pyodbc.SQL_CHAR, encoding='utf-8')\n",
    "connsqlodbc.setencoding('utf-8')\n",
    "cursor = connsqlodbc.cursor()\n",
    "# P+代號+發周別\n",
    "# MYSQL指令\n",
    "for i in range(0,lists_num):\n",
    "    Pstock_id='P'+str(stock_id)+str(products_list[i][0])\n",
    "    sqlStr = f\"\"\" \n",
    "   Insert into 董監持股比例表 (董監持股比例表編號\n",
    "    ,[當月收盤]\n",
    "\t,[發行張數],[非獨立董監持股]\n",
    "\t,[獨立董監持股]\n",
    "\t,[外資持股(%)]\n",
    "    ,董監持股月別,股票代號)\n",
    "    values ('{str(Pstock_id)}',\n",
    "    '{products_list[i][1]}','{products_list[i][4]}','{products_list[i][5]}','{products_list[i][10]}',\n",
    "    '{products_list[i][20]}',\n",
    "    '{products_list[i][0]}','{stock_id}')\n",
    "    \n",
    "    \"\"\"\n",
    "    cursor.execute(sqlStr)\n",
    "\n",
    "print(sqlStr)\n",
    "\n"
   ]
  },
  {
   "cell_type": "code",
   "execution_count": 22,
   "id": "f659dc92",
   "metadata": {},
   "outputs": [],
   "source": [
    "connsqlodbc.close()"
   ]
  },
  {
   "cell_type": "code",
   "execution_count": null,
   "id": "d17eaaf1",
   "metadata": {},
   "outputs": [],
   "source": []
  }
 ],
 "metadata": {
  "kernelspec": {
   "display_name": "Python 3 (ipykernel)",
   "language": "python",
   "name": "python3"
  },
  "language_info": {
   "codemirror_mode": {
    "name": "ipython",
    "version": 3
   },
   "file_extension": ".py",
   "mimetype": "text/x-python",
   "name": "python",
   "nbconvert_exporter": "python",
   "pygments_lexer": "ipython3",
   "version": "3.9.13"
  }
 },
 "nbformat": 4,
 "nbformat_minor": 5
}
