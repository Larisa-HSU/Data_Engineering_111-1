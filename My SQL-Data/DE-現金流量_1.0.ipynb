{
 "cells": [
  {
   "cell_type": "code",
   "execution_count": 1,
   "id": "9f684c3e",
   "metadata": {},
   "outputs": [
    {
     "name": "stdout",
     "output_type": "stream",
     "text": [
      "Active code page: 936\n"
     ]
    },
    {
     "name": "stderr",
     "output_type": "stream",
     "text": [
      "ERROR: Invalid requirement: '#'\n"
     ]
    }
   ],
   "source": [
    "!pip install pyodbc # ODBC的DRIVER(驅動程式)"
   ]
  },
  {
   "cell_type": "code",
   "execution_count": 2,
   "id": "9154d9c9",
   "metadata": {},
   "outputs": [
    {
     "name": "stdout",
     "output_type": "stream",
     "text": [
      "Active code page: 936\n",
      "Requirement already satisfied: selenium in c:\\users\\user\\anaconda3\\lib\\site-packages (4.7.2)\n",
      "Requirement already satisfied: trio~=0.17 in c:\\users\\user\\anaconda3\\lib\\site-packages (from selenium) (0.22.0)\n",
      "Requirement already satisfied: urllib3[socks]~=1.26 in c:\\users\\user\\anaconda3\\lib\\site-packages (from selenium) (1.26.11)\n",
      "Requirement already satisfied: certifi>=2021.10.8 in c:\\users\\user\\anaconda3\\lib\\site-packages (from selenium) (2022.9.14)\n",
      "Requirement already satisfied: trio-websocket~=0.9 in c:\\users\\user\\anaconda3\\lib\\site-packages (from selenium) (0.9.2)\n",
      "Requirement already satisfied: async-generator>=1.9 in c:\\users\\user\\anaconda3\\lib\\site-packages (from trio~=0.17->selenium) (1.10)\n",
      "Requirement already satisfied: exceptiongroup>=1.0.0rc9 in c:\\users\\user\\anaconda3\\lib\\site-packages (from trio~=0.17->selenium) (1.0.4)\n",
      "Requirement already satisfied: outcome in c:\\users\\user\\anaconda3\\lib\\site-packages (from trio~=0.17->selenium) (1.2.0)\n",
      "Requirement already satisfied: attrs>=19.2.0 in c:\\users\\user\\anaconda3\\lib\\site-packages (from trio~=0.17->selenium) (21.4.0)\n",
      "Requirement already satisfied: idna in c:\\users\\user\\anaconda3\\lib\\site-packages (from trio~=0.17->selenium) (3.3)\n",
      "Requirement already satisfied: cffi>=1.14 in c:\\users\\user\\anaconda3\\lib\\site-packages (from trio~=0.17->selenium) (1.15.1)\n",
      "Requirement already satisfied: sortedcontainers in c:\\users\\user\\anaconda3\\lib\\site-packages (from trio~=0.17->selenium) (2.4.0)\n",
      "Requirement already satisfied: sniffio in c:\\users\\user\\anaconda3\\lib\\site-packages (from trio~=0.17->selenium) (1.2.0)\n",
      "Requirement already satisfied: wsproto>=0.14 in c:\\users\\user\\anaconda3\\lib\\site-packages (from trio-websocket~=0.9->selenium) (1.2.0)\n",
      "Requirement already satisfied: PySocks!=1.5.7,<2.0,>=1.5.6 in c:\\users\\user\\anaconda3\\lib\\site-packages (from urllib3[socks]~=1.26->selenium) (1.7.1)\n",
      "Requirement already satisfied: pycparser in c:\\users\\user\\anaconda3\\lib\\site-packages (from cffi>=1.14->trio~=0.17->selenium) (2.21)\n",
      "Requirement already satisfied: h11<1,>=0.9.0 in c:\\users\\user\\anaconda3\\lib\\site-packages (from wsproto>=0.14->trio-websocket~=0.9->selenium) (0.14.0)\n"
     ]
    }
   ],
   "source": [
    "!pip install selenium"
   ]
  },
  {
   "cell_type": "code",
   "execution_count": 3,
   "id": "b8603cdf",
   "metadata": {},
   "outputs": [
    {
     "name": "stdout",
     "output_type": "stream",
     "text": [
      "【現在時間】2022/12/18 17:18:05\n",
      "【所在目錄】C:\\Users\\User\\Desktop\\資料工程\n",
      "【Python】3.9.13\n",
      "【pymssql】2.2.7\n",
      "【pyodbc】4.0.35\n"
     ]
    },
    {
     "data": {
      "application/javascript": [
       "IPython.notebook.set_autosave_interval(120000)"
      ]
     },
     "metadata": {},
     "output_type": "display_data"
    },
    {
     "name": "stdout",
     "output_type": "stream",
     "text": [
      "Autosaving every 120 seconds\n"
     ]
    }
   ],
   "source": [
    "# coding=utf-8\n",
    "from platform import python_version\n",
    "import os, time, socket, glob, pickle, joblib\n",
    "import pandas as pd\n",
    "import pyodbc, pymssql\n",
    "import warnings\n",
    "warnings.filterwarnings(action=\"ignore\")\n",
    "print(\"【現在時間】{}\".format(time.strftime(\"%Y/%m/%d %H:%M:%S\")))\n",
    "print(\"【所在目錄】{}\".format(os.getcwd()))\n",
    "#print(\"【主機名稱】{} ({})\".format(socket.gethostname(),socket.gethostbyname(socket.\n",
    "print(\"【Python】{}\".format(python_version()))\n",
    "print(\"【pymssql】{}\".format(pymssql.__version__))\n",
    "print(\"【pyodbc】{}\".format(pyodbc.version))\n",
    "import selenium\n",
    "from selenium import webdriver\n",
    "from selenium.webdriver.common.desired_capabilities import DesiredCapabilities\n",
    "from selenium.webdriver.common.by import *\n",
    "\n",
    "%autosave 120"
   ]
  },
  {
   "cell_type": "code",
   "execution_count": 4,
   "id": "88851776",
   "metadata": {},
   "outputs": [],
   "source": [
    "import pandas as pd\n",
    "import requests\n",
    "import bs4\n",
    "from bs4 import BeautifulSoup"
   ]
  },
  {
   "cell_type": "markdown",
   "id": "58d7188c",
   "metadata": {},
   "source": [
    "## 注意：每個公司的現金流量表不同 需確定格子狀態"
   ]
  },
  {
   "cell_type": "code",
   "execution_count": 9,
   "id": "7465b261",
   "metadata": {},
   "outputs": [],
   "source": [
    "def cash(stockcode):\n",
    "    url=f\"https://goodinfo.tw/tw/StockFinDetail.asp?RPT_CAT=CF_M_QUAR_ACC&STOCK_ID={stockcode}\"   #現金流量\n",
    "\n",
    "    chrome=webdriver.Chrome(executable_path=r'C:\\Users\\User\\NTUproject\\mylinebot00\\chromedriver.exe')\n",
    "\n",
    "    chrome.get(url)\n",
    "    time.sleep(2)\n",
    "    #chrome.find_element_by_css_selector(\"#RPT_CAT > option:nth-child(1)\").click()\n",
    "    time.sleep(2)\n",
    "    result=pd.read_html(chrome.page_source)\n",
    "\n",
    "    data=pd.DataFrame(result[15]).T\n",
    "    chrome.quit()\n",
    "    \n",
    "    return data"
   ]
  },
  {
   "cell_type": "code",
   "execution_count": 24,
   "id": "7031333b",
   "metadata": {},
   "outputs": [
    {
     "data": {
      "text/html": [
       "<div>\n",
       "<style scoped>\n",
       "    .dataframe tbody tr th:only-of-type {\n",
       "        vertical-align: middle;\n",
       "    }\n",
       "\n",
       "    .dataframe tbody tr th {\n",
       "        vertical-align: top;\n",
       "    }\n",
       "\n",
       "    .dataframe thead th {\n",
       "        text-align: right;\n",
       "    }\n",
       "</style>\n",
       "<table border=\"1\" class=\"dataframe\">\n",
       "  <thead>\n",
       "    <tr style=\"text-align: right;\">\n",
       "      <th></th>\n",
       "      <th>0</th>\n",
       "      <th>1</th>\n",
       "      <th>2</th>\n",
       "      <th>3</th>\n",
       "      <th>4</th>\n",
       "      <th>5</th>\n",
       "      <th>6</th>\n",
       "      <th>7</th>\n",
       "      <th>8</th>\n",
       "      <th>9</th>\n",
       "      <th>...</th>\n",
       "      <th>50</th>\n",
       "      <th>51</th>\n",
       "      <th>52</th>\n",
       "      <th>53</th>\n",
       "      <th>54</th>\n",
       "      <th>55</th>\n",
       "      <th>56</th>\n",
       "      <th>57</th>\n",
       "      <th>58</th>\n",
       "      <th>59</th>\n",
       "    </tr>\n",
       "  </thead>\n",
       "  <tbody>\n",
       "    <tr>\n",
       "      <th>營業活動</th>\n",
       "      <td>本期淨利(淨損)</td>\n",
       "      <td>繼續營業單位淨利(淨損)</td>\n",
       "      <td>折舊費用</td>\n",
       "      <td>攤銷費用</td>\n",
       "      <td>利息費用提列(迴轉)數</td>\n",
       "      <td>利息收入</td>\n",
       "      <td>股份基礎給付酬勞成本</td>\n",
       "      <td>處分及報廢固定資產損失(利益)</td>\n",
       "      <td>處分無形資產損失(利益)</td>\n",
       "      <td>其他項目</td>\n",
       "      <td>...</td>\n",
       "      <td>庫藏股之(買回)賣出</td>\n",
       "      <td>員工執行認股權</td>\n",
       "      <td>收取(支付)之利息</td>\n",
       "      <td>融資活動之淨現金流入(出)</td>\n",
       "      <td>其他影響現金流量之活動</td>\n",
       "      <td>匯率變動影響數</td>\n",
       "      <td>現金流量總計</td>\n",
       "      <td>本期現金及約當現金增加(減少)數</td>\n",
       "      <td>期初現金及約當現金餘額</td>\n",
       "      <td>期末現金及約當現金餘額</td>\n",
       "    </tr>\n",
       "    <tr>\n",
       "      <th>2022Q3</th>\n",
       "      <td>-4.09</td>\n",
       "      <td>-4.09</td>\n",
       "      <td>0.48</td>\n",
       "      <td>0.059</td>\n",
       "      <td>0.029</td>\n",
       "      <td>-0.058</td>\n",
       "      <td>1.7</td>\n",
       "      <td>0</td>\n",
       "      <td>0.001</td>\n",
       "      <td>0</td>\n",
       "      <td>...</td>\n",
       "      <td>0</td>\n",
       "      <td>0.45</td>\n",
       "      <td>-0.007</td>\n",
       "      <td>0.1</td>\n",
       "      <td>2022Q3</td>\n",
       "      <td>0.2</td>\n",
       "      <td>2022Q3</td>\n",
       "      <td>-0.7</td>\n",
       "      <td>42.1</td>\n",
       "      <td>41.4</td>\n",
       "    </tr>\n",
       "    <tr>\n",
       "      <th>2022Q2</th>\n",
       "      <td>-2.75</td>\n",
       "      <td>-2.75</td>\n",
       "      <td>0.5</td>\n",
       "      <td>0.06</td>\n",
       "      <td>0.028</td>\n",
       "      <td>-0.027</td>\n",
       "      <td>0.16</td>\n",
       "      <td>0</td>\n",
       "      <td>-</td>\n",
       "      <td>-</td>\n",
       "      <td>...</td>\n",
       "      <td>0</td>\n",
       "      <td>0.14</td>\n",
       "      <td>-0.006</td>\n",
       "      <td>18.18</td>\n",
       "      <td>2022Q2</td>\n",
       "      <td>0.072</td>\n",
       "      <td>2022Q2</td>\n",
       "      <td>15.75</td>\n",
       "      <td>26.35</td>\n",
       "      <td>42.1</td>\n",
       "    </tr>\n",
       "    <tr>\n",
       "      <th>2022Q1</th>\n",
       "      <td>-5.41</td>\n",
       "      <td>-5.41</td>\n",
       "      <td>0.6</td>\n",
       "      <td>0.059</td>\n",
       "      <td>0.023</td>\n",
       "      <td>-0.014</td>\n",
       "      <td>0.16</td>\n",
       "      <td>0</td>\n",
       "      <td>-</td>\n",
       "      <td>-</td>\n",
       "      <td>...</td>\n",
       "      <td>0</td>\n",
       "      <td>0.14</td>\n",
       "      <td>-0.005</td>\n",
       "      <td>-0.18</td>\n",
       "      <td>2022Q1</td>\n",
       "      <td>-0.075</td>\n",
       "      <td>2022Q1</td>\n",
       "      <td>-8.19</td>\n",
       "      <td>34.54</td>\n",
       "      <td>26.35</td>\n",
       "    </tr>\n",
       "    <tr>\n",
       "      <th>2021Q4</th>\n",
       "      <td>-8.87</td>\n",
       "      <td>-8.87</td>\n",
       "      <td>0.58</td>\n",
       "      <td>0.026</td>\n",
       "      <td>0.024</td>\n",
       "      <td>0.033</td>\n",
       "      <td>4.76</td>\n",
       "      <td>0</td>\n",
       "      <td>0</td>\n",
       "      <td>0</td>\n",
       "      <td>...</td>\n",
       "      <td>0</td>\n",
       "      <td>3.08</td>\n",
       "      <td>-0.006</td>\n",
       "      <td>29.94</td>\n",
       "      <td>2021Q4</td>\n",
       "      <td>-0.008</td>\n",
       "      <td>2021Q4</td>\n",
       "      <td>24.3</td>\n",
       "      <td>10.23</td>\n",
       "      <td>34.54</td>\n",
       "    </tr>\n",
       "  </tbody>\n",
       "</table>\n",
       "<p>5 rows × 60 columns</p>\n",
       "</div>"
      ],
      "text/plain": [
       "              0             1     2      3            4       5           6   \\\n",
       "營業活動    本期淨利(淨損)  繼續營業單位淨利(淨損)  折舊費用   攤銷費用  利息費用提列(迴轉)數    利息收入  股份基礎給付酬勞成本   \n",
       "2022Q3     -4.09         -4.09  0.48  0.059        0.029  -0.058         1.7   \n",
       "2022Q2     -2.75         -2.75   0.5   0.06        0.028  -0.027        0.16   \n",
       "2022Q1     -5.41         -5.41   0.6  0.059        0.023  -0.014        0.16   \n",
       "2021Q4     -8.87         -8.87  0.58  0.026        0.024   0.033        4.76   \n",
       "\n",
       "                     7             8     9   ...          50       51  \\\n",
       "營業活動    處分及報廢固定資產損失(利益)  處分無形資產損失(利益)  其他項目  ...  庫藏股之(買回)賣出  員工執行認股權   \n",
       "2022Q3                0         0.001     0  ...           0     0.45   \n",
       "2022Q2                0             -     -  ...           0     0.14   \n",
       "2022Q1                0             -     -  ...           0     0.14   \n",
       "2021Q4                0             0     0  ...           0     3.08   \n",
       "\n",
       "               52             53           54       55      56  \\\n",
       "營業活動    收取(支付)之利息  融資活動之淨現金流入(出)  其他影響現金流量之活動  匯率變動影響數  現金流量總計   \n",
       "2022Q3     -0.007            0.1       2022Q3      0.2  2022Q3   \n",
       "2022Q2     -0.006          18.18       2022Q2    0.072  2022Q2   \n",
       "2022Q1     -0.005          -0.18       2022Q1   -0.075  2022Q1   \n",
       "2021Q4     -0.006          29.94       2021Q4   -0.008  2021Q4   \n",
       "\n",
       "                      57           58           59  \n",
       "營業活動    本期現金及約當現金增加(減少)數  期初現金及約當現金餘額  期末現金及約當現金餘額  \n",
       "2022Q3              -0.7         42.1         41.4  \n",
       "2022Q2             15.75        26.35         42.1  \n",
       "2022Q1             -8.19        34.54        26.35  \n",
       "2021Q4              24.3        10.23        34.54  \n",
       "\n",
       "[5 rows x 60 columns]"
      ]
     },
     "execution_count": 24,
     "metadata": {},
     "output_type": "execute_result"
    }
   ],
   "source": [
    "stock_id = \"6446\"  #1605 1218 6446\n",
    "table_s=cash(stock_id)\n",
    "df = table_s.dropna(axis='columns')\n",
    "df.head()"
   ]
  },
  {
   "cell_type": "code",
   "execution_count": 27,
   "id": "a3c0797a",
   "metadata": {},
   "outputs": [
    {
     "name": "stdout",
     "output_type": "stream",
     "text": [
      "['-2.07', '-2.07', '0.42', '0.01', '0.018', '-0.01', '0.021', '0', '-', '-', '0.46', '0', '-1.14', '-0.053', '-0.65', '-', '0.29', '0.078', '-1.48', '0.025', '0.25', '-0.002', '0.38', '0', '-0.001', '0.058', '0', '0.72', '-0.76', '-0.3', '-2.37', '0.012', '0', '-2.36', '2020Q2', '-', '-', '-0.093', '0', '-0.017', '-0.014', '-0.15', '-0.092', '-0.031', '-0.4', '2020Q2', '0', '-0.014', '-0.19', '15.69', '0', '0.028', '-0.004', '15.5', '2020Q2', '-0.008', '2020Q2', '12.74', '11.63', '24.37']\n",
      "11\n",
      "2022Q3\n"
     ]
    },
    {
     "data": {
      "text/plain": [
       "'0 1   4 5 10   20'"
      ]
     },
     "execution_count": 27,
     "metadata": {},
     "output_type": "execute_result"
    }
   ],
   "source": [
    "products_list = df.values.tolist()\n",
    "print(products_list[10])\n",
    "'''\n",
    "del products_list[19]\n",
    "del products_list[18]'''\n",
    "lists_num=len(products_list)\n",
    "print(len(products_list))\n",
    "print(products_list[1][56])\n",
    "\"0 1   4 5 10   20\""
   ]
  },
  {
   "cell_type": "code",
   "execution_count": 16,
   "id": "9da18409",
   "metadata": {},
   "outputs": [],
   "source": [
    "connsqlodbc= pyodbc.connect(\"DRIVER={ODBC Driver 17 for SQL Server};SERVER=124.218.194.84;\"\n",
    "                      \"DATABASE=testDB;UID=testuser;PWD=323\")\n"
   ]
  },
  {
   "cell_type": "code",
   "execution_count": 17,
   "id": "a7c8723b",
   "metadata": {},
   "outputs": [
    {
     "data": {
      "text/plain": [
       "<pyodbc.Cursor at 0x1b10e68d6b0>"
      ]
     },
     "execution_count": 17,
     "metadata": {},
     "output_type": "execute_result"
    }
   ],
   "source": [
    "connsqlodbc.autocommit = True\n",
    "cursor = connsqlodbc.cursor()\n",
    "# GS+代號+發周別\n",
    "# MYSQL指令\n",
    "sqlStr ='''create table 現金流量表\n",
    "(\n",
    "\t現金流量表編號 nvarchar(20) primary key\n",
    "    ,[當期現金流量] nvarchar(20) Null\n",
    "\t,當期現金流量季度 nvarchar(10) not Null\n",
    "\t,股票代號 nvarchar(10) not Null\n",
    ")\n",
    "'''\n",
    "cursor.execute(sqlStr)"
   ]
  },
  {
   "cell_type": "code",
   "execution_count": 28,
   "id": "583c0baa",
   "metadata": {},
   "outputs": [
    {
     "name": "stdout",
     "output_type": "stream",
     "text": [
      " \n",
      "   Insert into 現金流量表 (現金流量表編號\n",
      "    ,[當期現金流量] \n",
      "\t,當期現金流量季度\n",
      "\t,股票代號)\n",
      "    values ('CA64462020Q2',\n",
      "    '12.74',\n",
      "    '2020Q2','6446')\n",
      "    \n",
      "    \n"
     ]
    }
   ],
   "source": [
    "connsqlodbc.autocommit = True\n",
    "\n",
    "connsqlodbc.setdecoding(pyodbc.SQL_CHAR, encoding='utf-8')\n",
    "connsqlodbc.setencoding('utf-8')\n",
    "cursor = connsqlodbc.cursor()\n",
    "# CA+代號+發周別\n",
    "# MYSQL指令\n",
    "for i in range(0,lists_num):\n",
    "    CAstock_id='CA'+str(stock_id)+str(products_list[i][56])\n",
    "    sqlStr = f\"\"\" \n",
    "   Insert into 現金流量表 (現金流量表編號\n",
    "    ,[當期現金流量] \n",
    "\t,當期現金流量季度\n",
    "\t,股票代號)\n",
    "    values ('{str(CAstock_id)}',\n",
    "    '{products_list[i][57]}',\n",
    "    '{products_list[i][56]}','{stock_id}')\n",
    "    \n",
    "    \"\"\"\n",
    "    cursor.execute(sqlStr)\n",
    "\n",
    "print(sqlStr)\n",
    "\n"
   ]
  },
  {
   "cell_type": "code",
   "execution_count": null,
   "id": "9cad9888",
   "metadata": {},
   "outputs": [],
   "source": []
  }
 ],
 "metadata": {
  "kernelspec": {
   "display_name": "Python 3 (ipykernel)",
   "language": "python",
   "name": "python3"
  },
  "language_info": {
   "codemirror_mode": {
    "name": "ipython",
    "version": 3
   },
   "file_extension": ".py",
   "mimetype": "text/x-python",
   "name": "python",
   "nbconvert_exporter": "python",
   "pygments_lexer": "ipython3",
   "version": "3.9.13"
  }
 },
 "nbformat": 4,
 "nbformat_minor": 5
}
