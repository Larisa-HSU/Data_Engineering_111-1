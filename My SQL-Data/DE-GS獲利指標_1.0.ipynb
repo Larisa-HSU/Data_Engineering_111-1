{
 "cells": [
  {
   "cell_type": "code",
   "execution_count": 17,
   "id": "86456335",
   "metadata": {},
   "outputs": [
    {
     "name": "stdout",
     "output_type": "stream",
     "text": [
      "Active code page: 936\n",
      "Requirement already satisfied: pyodbc in c:\\users\\user\\anaconda3\\lib\\site-packages (4.0.35)\n"
     ]
    }
   ],
   "source": [
    "!pip install pyodbc \n",
    "# ODBC的DRIVER(驅動程式)"
   ]
  },
  {
   "cell_type": "markdown",
   "id": "00017ad0",
   "metadata": {},
   "source": [
    "### ----開始執行----\n",
    "#### 負責人:莫諼"
   ]
  },
  {
   "cell_type": "code",
   "execution_count": 2,
   "id": "9d15b591",
   "metadata": {},
   "outputs": [
    {
     "name": "stdout",
     "output_type": "stream",
     "text": [
      "【現在時間】2022/12/17 21:48:37\n",
      "【所在目錄】C:\\Users\\User\\Desktop\\資料工程\n",
      "【Python】3.9.13\n",
      "【pymssql】2.2.7\n",
      "【pyodbc】4.0.35\n"
     ]
    },
    {
     "data": {
      "application/javascript": [
       "IPython.notebook.set_autosave_interval(120000)"
      ]
     },
     "metadata": {},
     "output_type": "display_data"
    },
    {
     "name": "stdout",
     "output_type": "stream",
     "text": [
      "Autosaving every 120 seconds\n"
     ]
    }
   ],
   "source": [
    "# coding=utf-8\n",
    "from platform import python_version\n",
    "import os, time, socket, glob, pickle, joblib\n",
    "import pandas as pd\n",
    "import pyodbc, pymssql\n",
    "import warnings\n",
    "warnings.filterwarnings(action=\"ignore\")\n",
    "print(\"【現在時間】{}\".format(time.strftime(\"%Y/%m/%d %H:%M:%S\")))\n",
    "print(\"【所在目錄】{}\".format(os.getcwd()))\n",
    "#print(\"【主機名稱】{} ({})\".format(socket.gethostname(),socket.gethostbyname(socket.\n",
    "print(\"【Python】{}\".format(python_version()))\n",
    "print(\"【pymssql】{}\".format(pymssql.__version__))\n",
    "print(\"【pyodbc】{}\".format(pyodbc.version))\n",
    "%autosave 120"
   ]
  },
  {
   "cell_type": "code",
   "execution_count": 3,
   "id": "0c600f17",
   "metadata": {},
   "outputs": [],
   "source": [
    "import pandas as pd\n",
    "import requests\n",
    "import bs4\n",
    "from bs4 import BeautifulSoup"
   ]
  },
  {
   "cell_type": "markdown",
   "id": "7c18d9d5",
   "metadata": {},
   "source": [
    "### ----股票抓取獲利指標副程式----"
   ]
  },
  {
   "cell_type": "code",
   "execution_count": 28,
   "id": "aa2d65ed",
   "metadata": {},
   "outputs": [],
   "source": [
    "#直接輸入查詢獲利指標\n",
    "def Profit(name):\n",
    "    url = \"https://goodinfo.tw/tw/StockBzPerformance.asp?STOCK_ID=\"+name\n",
    "    payloads = {\"STOCK_ID\": name}\n",
    "    headers = {\"user-agent\": \"Mozilla/5.0 (Windows NT 10.0; Win64; x64) AppleWebKit/537.36 (KHTML, like Gecko) Chrome/107.0.0.0 Safari/537.36\"}\n",
    "\n",
    "    resp = requests.request(method=\"POST\", url=url, data=payloads, headers=headers)\n",
    "\n",
    "    resp.encoding = \"utf-8\"\n",
    "    result = pd.read_html(resp.text, header=1)  \n",
    "\n",
    "    return result[4]"
   ]
  },
  {
   "cell_type": "code",
   "execution_count": 53,
   "id": "44430fe2",
   "metadata": {
    "scrolled": true
   },
   "outputs": [
    {
     "data": {
      "text/html": [
       "<div>\n",
       "<style scoped>\n",
       "    .dataframe tbody tr th:only-of-type {\n",
       "        vertical-align: middle;\n",
       "    }\n",
       "\n",
       "    .dataframe tbody tr th {\n",
       "        vertical-align: top;\n",
       "    }\n",
       "\n",
       "    .dataframe thead th {\n",
       "        text-align: right;\n",
       "    }\n",
       "</style>\n",
       "<table border=\"1\" class=\"dataframe\">\n",
       "  <thead>\n",
       "    <tr style=\"text-align: right;\">\n",
       "      <th></th>\n",
       "      <th>年度</th>\n",
       "      <th>股本(億)</th>\n",
       "      <th>財報評分</th>\n",
       "      <th>收盤</th>\n",
       "      <th>平均</th>\n",
       "      <th>漲跌</th>\n",
       "      <th>漲跌(%)</th>\n",
       "      <th>營業收入</th>\n",
       "      <th>營業毛利</th>\n",
       "      <th>營業利益</th>\n",
       "      <th>...</th>\n",
       "      <th>稅後淨利</th>\n",
       "      <th>營業毛利.1</th>\n",
       "      <th>營業利益.1</th>\n",
       "      <th>業外損益.1</th>\n",
       "      <th>稅後淨利.1</th>\n",
       "      <th>ROE(%)</th>\n",
       "      <th>ROA(%)</th>\n",
       "      <th>稅後EPS</th>\n",
       "      <th>年增(元)</th>\n",
       "      <th>BPS(元)</th>\n",
       "    </tr>\n",
       "  </thead>\n",
       "  <tbody>\n",
       "    <tr>\n",
       "      <th>0</th>\n",
       "      <td>22Q3</td>\n",
       "      <td>50</td>\n",
       "      <td>43</td>\n",
       "      <td>36.5</td>\n",
       "      <td>32.7</td>\n",
       "      <td>+9.2</td>\n",
       "      <td>+33.7</td>\n",
       "      <td>84.5</td>\n",
       "      <td>12.5</td>\n",
       "      <td>1.32</td>\n",
       "      <td>...</td>\n",
       "      <td>4.3</td>\n",
       "      <td>14.8</td>\n",
       "      <td>1.57</td>\n",
       "      <td>3.79</td>\n",
       "      <td>5.09</td>\n",
       "      <td>8.23(年估)</td>\n",
       "      <td>5.36(年估)</td>\n",
       "      <td>0.88</td>\n",
       "      <td>-0.03</td>\n",
       "      <td>14.26</td>\n",
       "    </tr>\n",
       "    <tr>\n",
       "      <th>1</th>\n",
       "      <td>2021</td>\n",
       "      <td>50</td>\n",
       "      <td>47</td>\n",
       "      <td>27.3</td>\n",
       "      <td>28.5</td>\n",
       "      <td>-0.3</td>\n",
       "      <td>-1.1</td>\n",
       "      <td>99.4</td>\n",
       "      <td>15.4</td>\n",
       "      <td>2.09</td>\n",
       "      <td>...</td>\n",
       "      <td>5.92</td>\n",
       "      <td>15.4</td>\n",
       "      <td>2.11</td>\n",
       "      <td>4.29</td>\n",
       "      <td>5.95</td>\n",
       "      <td>8.44</td>\n",
       "      <td>5.96</td>\n",
       "      <td>1.22</td>\n",
       "      <td>-0.53</td>\n",
       "      <td>14.37</td>\n",
       "    </tr>\n",
       "  </tbody>\n",
       "</table>\n",
       "<p>2 rows × 21 columns</p>\n",
       "</div>"
      ],
      "text/plain": [
       "     年度 股本(億) 財報評分    收盤    平均    漲跌  漲跌(%)  營業收入  營業毛利  營業利益  ...  稅後淨利  \\\n",
       "0  22Q3    50   43  36.5  32.7  +9.2  +33.7  84.5  12.5  1.32  ...   4.3   \n",
       "1  2021    50   47  27.3  28.5  -0.3   -1.1  99.4  15.4  2.09  ...  5.92   \n",
       "\n",
       "  營業毛利.1 營業利益.1 業外損益.1 稅後淨利.1    ROE(%)    ROA(%) 稅後EPS  年增(元) BPS(元)  \n",
       "0   14.8   1.57   3.79   5.09  8.23(年估)  5.36(年估)  0.88  -0.03  14.26  \n",
       "1   15.4   2.11   4.29   5.95      8.44      5.96  1.22  -0.53  14.37  \n",
       "\n",
       "[2 rows x 21 columns]"
      ]
     },
     "execution_count": 53,
     "metadata": {},
     "output_type": "execute_result"
    }
   ],
   "source": [
    "stock_id=\"1218\" #1605 1218 6446\n",
    "stockdata=Profit(stock_id)  #pandas.core.frame.DataFrame\n",
    "stockdata.head(2)"
   ]
  },
  {
   "cell_type": "code",
   "execution_count": 54,
   "id": "02eff92d",
   "metadata": {
    "scrolled": true
   },
   "outputs": [
    {
     "name": "stdout",
     "output_type": "stream",
     "text": [
      "['22Q3', '50', '43', '36.5', '32.7', '+9.2', '+33.7', '84.5', '12.5', '1.32', '3.21', '4.3', '14.8', '1.57', '3.79', '5.09', '8.23(年估)', '5.36(年估)', '0.88', '-0.03', '14.26']\n",
      "35\n"
     ]
    }
   ],
   "source": [
    "products_list = stockdata.values.tolist()\n",
    "print(products_list[0])\n",
    "print(len(products_list))\n",
    "lists_num=len(products_list)"
   ]
  },
  {
   "cell_type": "code",
   "execution_count": 55,
   "id": "e59485ce",
   "metadata": {
    "scrolled": true
   },
   "outputs": [
    {
     "name": "stdout",
     "output_type": "stream",
     "text": [
      "M121822Q3\n"
     ]
    }
   ],
   "source": [
    "'''0      1     2   3    4   5    6       7     8     9 10(損益)11   12     13    14      15    16       17    18    19      20\n",
    "年度   股本    評分 收盤 平均 漲跌 漲跌(%) 收入   毛利   利益損益 稅後淨利 毛利 利益  損益    淨利    ROE      ROA 稅後EPS 稅後EPS BPS\n",
    "'''\n",
    "\n",
    "Mstock_id=\"M\"+str(stock_id)+str(products_list[0][0])\n",
    "print(Mstock_id)"
   ]
  },
  {
   "cell_type": "code",
   "execution_count": 56,
   "id": "43047aee",
   "metadata": {},
   "outputs": [
    {
     "name": "stdout",
     "output_type": "stream",
     "text": [
      "['年度', '股本(億)', '財報評分', '年度股價(元)', '年度股價(元)', '年度股價(元)', '年度股價(元)', '獲利金額(億)', '獲利金額(億)', '獲利金額(億)', '獲利金額(億)', '獲利金額(億)', '獲利率(%)', '獲利率(%)', '獲利率(%)', '獲利率(%)', 'ROE(%)', 'ROA(%)', 'EPS(元)', 'EPS(元)', 'BPS(元)']\n",
      "['年度', '股本(億)', '財報評分', '收盤', '平均', '漲跌', '漲跌(%)', '營業收入', '營業毛利', '營業利益', '業外損益', '稅後淨利', '營業毛利', '營業利益', '業外損益', '稅後淨利', 'ROE(%)', 'ROA(%)', '稅後EPS', '年增(元)', 'BPS(元)']\n",
      "33\n",
      "[['22Q3', '50', '43', '36.5', '32.7', '+9.2', '+33.7', '84.5', '12.5', '1.32', '3.21', '4.3', '14.8', '1.57', '3.79', '5.09', '8.23(年估)', '5.36(年估)', '0.88', '-0.03', '14.26'], ['2021', '50', '47', '27.3', '28.5', '-0.3', '-1.1', '99.4', '15.4', '2.09', '4.26', '5.92', '15.4', '2.11', '4.29', '5.95', '8.44', '5.96', '1.22', '-0.53', '14.37'], ['2020', '50', '51', '27.6', '23', '+5.5', '+24.9', '83.6', '16.4', '3.17', '5.9', '8.51', '19.6', '3.79', '7.05', '10.2', '12.5', '9.22', '1.75', '+0.55', '14.45'], ['2019', '50', '49', '22.1', '20', '+3.1', '+16.3', '80', '14.6', '1.6', '4.61', '5.82', '18.2', '2', '5.77', '7.28', '8.95', '6.46', '1.2', '+0.22', '13.57'], ['2018', '50', '49', '19', '17.5', '+2.1', '+12.4', '79', '14.3', '0.9', '4.01', '4.64', '18.1', '1.14', '5.08', '5.88', '9.09', '5.71', '0.98', '+0.05', '13.15'], ['2017', '35.3', '38', '16.9', '17.1', '+2', '+13.4', '76.8', '13.3', '-0.36', '3.81', '3.17', '17.3', '-0.47', '4.95', '4.13', '8.69', '4.13', '0.93', '+0.57', '11.19'], ['2016', '35.3', '36', '14.9', '13.9', '+2.85', '+23.7', '81.1', '14.3', '1.5', '-0.02', '1.21', '17.6', '1.85', '-0.02', '1.5', '3.53', '1.55', '0.36', '0', '10.22'], ['2015', '35.3', '32', '12.05', '11.6', '+0.05', '+0.4', '80.2', '13.1', '-1.03', '2.07', '1.24', '16.3', '-1.28', '2.58', '1.55', '3.66', '1.6', '0.36', '+0.15', '10.02'], ['2014', '35.3', '36', '12', '13', '-1.35', '-10.1', '90', '13.6', '-1', '1.77', '0.7', '15.1', '-1.11', '1.96', '0.78', '2.1', '0.9', '0.21', '+0.56', '9.92'], ['2013', '35.3', '30', '13.35', '14.6', '-2.6', '-16.3', '91.1', '11.4', '-3.49', '2.44', '-1.19', '12.6', '-3.83', '2.67', '-1.31', '-3.55', '-1.46', '-0.35', '+0.24', '9.72'], ['2012', '35.3', '23', '15.95', '15.7', '+1.9', '+13.5', '102', '9.33', '-3.67', '1.72', '-2', '9.15', '-3.6', '1.69', '-1.97', '-5.53', '-2.38', '-0.59', '-1.2', '10.41'], ['2011', '34.3', '34', '14.05', '16.9', '-4.45', '-24.1', '101', '13.1', '-3.1', '5.17', '2', '13', '-3.08', '5.14', '2', '5.21', '2.35', '0.61', '-0.14', '11.62'], ['2010', '33.3', '34', '18.5', '15.5', '+5.45', '+41.8', '94.1', '15.2', '-0.98', '3.5', '2.39', '16.2', '-1.04', '3.72', '2.57', '6.41', '2.94', '0.75', '-0.01', '11.99'], ['2009', '32', '38', '13.05', '10.6', '+5.41', '+70.8', '85', '14.6', '0.82', '1.78', '2.35', '17.1', '0.96', '2.09', '2.8', '6.62', '2.91', '0.76', '+1.04', '11.8'], ['2008', '32', '28', '7.64', '8.69', '-1.69', '-18.1', '86.3', '11', '-1.82', '1.55', '-0.85', '12.7', '-2.11', '1.79', '-0.5', '-1.21', '-0.5', '-0.28', '-0.45', '11.29'], ['2007', '32', '36', '9.33', '8.97', '+1.19', '+14.6', '106', '21.8', '-2.51', '2.67', '0.5', '20.6', '-2.38', '2.52', '0.06', '0.18', '0.07', '0.17', '+0.34', '11.69'], ['2006', '32', '32', '8.14', '6.29', '+2.38', '+41.3', '103', '24.6', '-3.28', '1.12', '-0.81', '23.9', '-3.19', '1.09', '-2.49', '-7.54', '-2.86', '-0.17', '0', '11.24'], ['2005', '31.4', '30', '5.76', '6.48', '-2.29', '-28.4', '109', '27.8', '0.35', '-0.24', '-0.5', '25.4', '0.32', '-0.22', '-0.43', '-1.4', '-0.51', '-0.17', '-0.28', '11.37'], ['2004', '31.6', '40', '8.05', '7.87', '+2.55', '+46.4', '107', '24.4', '-0.78', '1.41', '0.32', '22.9', '-0.73', '1.32', '0.52', '1.7', '0.62', '0.11', '-0.11', '11.22'], ['2003', '32.3', '38', '5.5', '5.33', '0', '0', '133', '25.3', '0.21', '0.21', '0.65', '18.9', '0.16', '0.16', '0.49', '2.01', '0.77', '0.22', '+0.62', '10.32'], ['2002', '32.3', '28', '5.5', '5.67', '+1.58', '+40.3', '90.3', '22', '0.02', '-1.11', '-1.15', '24.3', '0.02', '-1.23', '-1.27', '-3.63', '-1.5', '-0.4', '-0.04', '9.68'], ['2001', '32.3', '30', '3.92', '4.46', '-0.43', '-9.9', '83.9', '19.6', '0.7', '-1.29', '-1.17', '23.4', '0.83', '-1.53', '-1.4', '-3.67', '-1.56', '-0.36', '-0.47', '10.01'], ['2000', '32.3', '-', '4.35', '9.6', '-7.75', '-64', '-', '-', '-', '-', '0.36', '-', '-', '-', '-', '-', '-', '0.11', '-0.36', '10.01'], ['1999', '32.3', '-', '12.1', '11.1', '+0.6', '+5.2', '-', '-', '-', '-', '1.52', '-', '-', '-', '-', '-', '-', '0.47', '+1.08', '10.46'], ['1998', '32.3', '-', '11.5', '21.2', '-15.7', '-57.7', '-', '-', '-', '-', '-1.87', '-', '-', '-', '-', '-', '-', '-0.61', '-1.14', '10.54'], ['1997', '23.4', '-', '27.2', '25.2', '+7.2', '+36', '-', '-', '-', '-', '1.48', '-', '-', '-', '-', '-', '-', '0.53', '-0.1', '11.86'], ['1996', '22.5', '-', '20', '21.6', '+1.3', '+7', '-', '-', '-', '-', '1.66', '-', '-', '-', '-', '-', '-', '0.63', '+0.06', '12.12'], ['1995', '22.5', '-', '18.7', '20.8', '-8.1', '-30.2', '-', '-', '-', '-', '1.53', '-', '-', '-', '-', '-', '-', '0.57', '-0.01', '12.02'], ['1994', '20.8', '-', '26.8', '26', '-2.6', '-8.8', '-', '-', '-', '-', '1.7', '-', '-', '-', '-', '-', '-', '0.58', '-', '12.45'], ['1993', '-', '-', '29.4', '26.3', '+4.6', '+18.5', '-', '-', '-', '-', '-', '-', '-', '-', '-', '-', '-', '-', '-', '12.67'], ['1992', '-', '-', '24.8', '44.1', '-21.4', '-46.3', '-', '-', '-', '-', '-', '-', '-', '-', '-', '-', '-', '-', '-', '14.32'], ['1991', '-', '-', '46.2', '53.8', '-7.3', '-13.6', '-', '-', '-', '-', '-', '-', '-', '-', '-', '-', '-', '-', '-', '15.62'], ['1990', '-', '-', '-', '-', '-', '-', '-', '-', '-', '-', '-', '-', '-', '-', '-', '-', '-', '-', '-', '17.74']]\n"
     ]
    }
   ],
   "source": [
    "##視情況使用\n",
    "print(products_list[18])\n",
    "print(products_list[19])\n",
    "\n",
    "del products_list[19]\n",
    "del products_list[18]\n",
    "lists_num=len(products_list)\n",
    "print(len(products_list))\n",
    "print(products_list)"
   ]
  },
  {
   "cell_type": "markdown",
   "id": "8d9cc81e",
   "metadata": {},
   "source": [
    "### ----將DataFrame 轉成list----"
   ]
  },
  {
   "cell_type": "markdown",
   "id": "044c48f5",
   "metadata": {},
   "source": [
    "### 連線 資料創表"
   ]
  },
  {
   "cell_type": "code",
   "execution_count": 32,
   "id": "9faf617a",
   "metadata": {},
   "outputs": [
    {
     "data": {
      "text/plain": [
       "['SQL Server',\n",
       " 'Microsoft Access Driver (*.mdb, *.accdb)',\n",
       " 'Microsoft Excel Driver (*.xls, *.xlsx, *.xlsm, *.xlsb)',\n",
       " 'Microsoft Access Text Driver (*.txt, *.csv)',\n",
       " 'SQL Server Native Client RDA 11.0',\n",
       " 'ODBC Driver 17 for SQL Server']"
      ]
     },
     "execution_count": 32,
     "metadata": {},
     "output_type": "execute_result"
    }
   ],
   "source": [
    "pyodbc.drivers()"
   ]
  },
  {
   "cell_type": "code",
   "execution_count": 33,
   "id": "0ef07fec",
   "metadata": {},
   "outputs": [],
   "source": [
    "connsqlodbc= pyodbc.connect(\"DRIVER={ODBC Driver 17 for SQL Server};SERVER=124.218.194.84;\"\n",
    "                      \"DATABASE=testDB;UID=testuser;PWD=323\")"
   ]
  },
  {
   "cell_type": "code",
   "execution_count": 21,
   "id": "6f83aaf6",
   "metadata": {},
   "outputs": [
    {
     "data": {
      "text/plain": [
       "<pyodbc.Cursor at 0x138f8f2a8b0>"
      ]
     },
     "execution_count": 21,
     "metadata": {},
     "output_type": "execute_result"
    }
   ],
   "source": [
    "##創表\n",
    "connsqlodbc.autocommit = True\n",
    "cursor = connsqlodbc.cursor()\n",
    "# M+股票代號+發布季度 \n",
    "# MYSQL指令\n",
    "\n",
    "\n",
    "sqlStr ='''create table 經營績效表\n",
    "(\n",
    "\t經營績效表編號 nvarchar(20) primary key\n",
    "\t,[股本] nvarchar(20) NULL\n",
    "\t,[財報評分] nvarchar(20) Null\n",
    "\t,[年度股價收盤] nvarchar(20) Null\n",
    "\t,[年度股價平均] nvarchar(20) Null\n",
    "\t,[獲利營業收入] nvarchar(20) Null\n",
    "\t,[獲利營業毛利] nvarchar(20) Null\n",
    "\t,[獲利營業利益] nvarchar(20) Null\n",
    "\t,[獲利營業損益] nvarchar(20) Null\n",
    "\t,[發布年度周別*]text not Null\n",
    "\t,[股票代號*] nvarchar(10) not Null\n",
    ")\n",
    "'''\n",
    "cursor.execute(sqlStr)"
   ]
  },
  {
   "cell_type": "markdown",
   "id": "5743e963",
   "metadata": {},
   "source": [
    "## 資料入庫"
   ]
  },
  {
   "cell_type": "code",
   "execution_count": 57,
   "id": "e13897ab",
   "metadata": {},
   "outputs": [
    {
     "name": "stdout",
     "output_type": "stream",
     "text": [
      " \n",
      "    Insert into 經營績效表(\n",
      "\t經營績效表編號,[股本],[財報評分] ,[年度股價收盤] ,[年度股價平均],[獲利營業收入]\n",
      "\t,[獲利營業毛利] ,[獲利營業利益] ,[獲利營業損益] \n",
      "\t,[發布年度周別*],[股票代號*] )\n",
      "    values ('M12181990',\n",
      "    '-','-','-','-',\n",
      "    '-','-','-','-',\n",
      "    '-','1218')\n",
      "    \n"
     ]
    }
   ],
   "source": [
    "connsqlodbc.autocommit = True\n",
    "\n",
    "connsqlodbc.setdecoding(pyodbc.SQL_CHAR, encoding='utf-8')\n",
    "connsqlodbc.setencoding('utf-8')\n",
    "cursor = connsqlodbc.cursor()\n",
    "# GS+代號+發周別\n",
    "# MYSQL指令\n",
    "for i in range(0,lists_num):\n",
    "    Mstock_id=\"M\"+str(stock_id)+str(products_list[i][0])\n",
    "    sqlStr = f\"\"\" \n",
    "    Insert into 經營績效表(\n",
    "\t經營績效表編號,[股本],[財報評分] ,[年度股價收盤] ,[年度股價平均],[獲利營業收入]\n",
    "\t,[獲利營業毛利] ,[獲利營業利益] ,[獲利營業損益] \n",
    "\t,[發布年度周別*],[股票代號*] )\n",
    "    values ('{str(Mstock_id)}',\n",
    "    '{str(products_list[i][1])}','{str(products_list[i][2])}','{str(products_list[i][3])}','{str(products_list[i][4])}',\n",
    "    '{str(products_list[i][7])}','{str(products_list[i][8])}','{str(products_list[i][9])}','{str(products_list[i][10])}',\n",
    "    '{str(products_list[i][])}','{str(stock_id)}')\n",
    "    \"\"\"\n",
    "    cursor.execute(sqlStr)\n",
    "\n",
    "print(sqlStr)"
   ]
  },
  {
   "cell_type": "code",
   "execution_count": 27,
   "id": "3fac4b4c",
   "metadata": {},
   "outputs": [],
   "source": [
    "connsqlodbc.close()"
   ]
  },
  {
   "cell_type": "code",
   "execution_count": null,
   "id": "4bf947b1",
   "metadata": {},
   "outputs": [],
   "source": [
    "'''\n",
    "M+股票代號+發布季度 \n",
    "股本\n",
    "財報評分\n",
    "年度股價收盤\n",
    "年度股價平均\n",
    "獲利營業收入\n",
    "獲利營業毛利\n",
    "獲利營業利益\n",
    "獲利營業損益\n",
    "發布年度周別*\n",
    "代號\n",
    "\n",
    "'''"
   ]
  }
 ],
 "metadata": {
  "kernelspec": {
   "display_name": "Python 3 (ipykernel)",
   "language": "python",
   "name": "python3"
  },
  "language_info": {
   "codemirror_mode": {
    "name": "ipython",
    "version": 3
   },
   "file_extension": ".py",
   "mimetype": "text/x-python",
   "name": "python",
   "nbconvert_exporter": "python",
   "pygments_lexer": "ipython3",
   "version": "3.9.13"
  }
 },
 "nbformat": 4,
 "nbformat_minor": 5
}
